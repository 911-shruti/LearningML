{
  "nbformat": 4,
  "nbformat_minor": 0,
  "metadata": {
    "colab": {
      "provenance": [],
      "authorship_tag": "ABX9TyMbFNt7OIQFx8vUM8pzZDsA",
      "include_colab_link": true
    },
    "kernelspec": {
      "name": "python3",
      "display_name": "Python 3"
    },
    "language_info": {
      "name": "python"
    }
  },
  "cells": [
    {
      "cell_type": "markdown",
      "metadata": {
        "id": "view-in-github",
        "colab_type": "text"
      },
      "source": [
        "<a href=\"https://colab.research.google.com/github/911-shruti/LearningML/blob/main/Tensors.ipynb\" target=\"_parent\"><img src=\"https://colab.research.google.com/assets/colab-badge.svg\" alt=\"Open In Colab\"/></a>"
      ]
    },
    {
      "cell_type": "markdown",
      "source": [
        "# Tensors:\n",
        "Nothing but data structures to store number(sometimes characters) (N-D Array)\n",
        "\n",
        "Ex: Scaler , Vector, Metrices\n",
        "\n",
        "0D Tensor/Scaler:"
      ],
      "metadata": {
        "id": "g5ZJOvlV8QLG"
      }
    },
    {
      "cell_type": "code",
      "execution_count": null,
      "metadata": {
        "colab": {
          "base_uri": "https://localhost:8080/"
        },
        "id": "eibvXFKV8NL4",
        "outputId": "41ad02bf-ea5c-4f85-d324-cc86cfe69834"
      },
      "outputs": [
        {
          "output_type": "execute_result",
          "data": {
            "text/plain": [
              "(array(5), 0)"
            ]
          },
          "metadata": {},
          "execution_count": 5
        }
      ],
      "source": [
        "# 0D Tensor:\n",
        "import numpy as np\n",
        "a = np.array(5)\n",
        "a, a.ndim\n"
      ]
    },
    {
      "cell_type": "markdown",
      "source": [
        "1D Tensor/Vector: when we have a list or 1D array\n",
        "\n",
        "Ex:[1,2,45,6]\n",
        "\n",
        "Note: whenever we make a 1D tensor it has 1dimension as a tensor but the dimeention of the venctor will be N-D where N = no. of items in the Vector.\n",
        "\n",
        "=> 1D is a collection of 0D tensore."
      ],
      "metadata": {
        "id": "9z-u32KE-YAP"
      }
    },
    {
      "cell_type": "code",
      "source": [
        "aa = np.array([1,2,3,4])\n",
        "aa,aa.ndim"
      ],
      "metadata": {
        "colab": {
          "base_uri": "https://localhost:8080/"
        },
        "id": "1U3ngJXo99bA",
        "outputId": "353fccaa-30da-41d3-cdb4-069515332e4f"
      },
      "execution_count": null,
      "outputs": [
        {
          "output_type": "execute_result",
          "data": {
            "text/plain": [
              "(array([1, 2, 3, 4]), 1)"
            ]
          },
          "metadata": {},
          "execution_count": 7
        }
      ]
    },
    {
      "cell_type": "markdown",
      "source": [
        "2D Tensors: Collection of Vectors (1D Tensor)"
      ],
      "metadata": {
        "id": "yB5Qrgz8_yZE"
      }
    },
    {
      "cell_type": "code",
      "source": [
        "mat = np.array([[1,2,3],[4,5,6],[6,7,8]])\n",
        "mat , mat.ndim"
      ],
      "metadata": {
        "colab": {
          "base_uri": "https://localhost:8080/"
        },
        "id": "Aod5qVot_8y7",
        "outputId": "e6e3525f-56ca-4a29-a191-7379969117a9"
      },
      "execution_count": null,
      "outputs": [
        {
          "output_type": "execute_result",
          "data": {
            "text/plain": [
              "(array([[1, 2, 3],\n",
              "        [4, 5, 6],\n",
              "        [6, 7, 8]]),\n",
              " 2)"
            ]
          },
          "metadata": {},
          "execution_count": 9
        }
      ]
    },
    {
      "cell_type": "markdown",
      "source": [
        "ND Tensor: collection of n-1Dimention\n",
        "\n",
        "Rank,=Axis and Shape:\n",
        "no. of Dimentions\n",
        "\n",
        "Shape( in a particular axis matrix(row col) how many items are there?)"
      ],
      "metadata": {
        "id": "NrTkbcu2AoQa"
      }
    },
    {
      "cell_type": "markdown",
      "source": [],
      "metadata": {
        "id": "mvovBBX08OTm"
      }
    }
  ]
}